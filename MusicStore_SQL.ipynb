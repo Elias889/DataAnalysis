{
 "cells": [
  {
   "cell_type": "markdown",
   "metadata": {},
   "source": [
    "# Setting up the Environment"
   ]
  },
  {
   "cell_type": "code",
   "execution_count": 1,
   "metadata": {},
   "outputs": [
    {
     "data": {
      "text/plain": [
       "'Connected: None@chinook.db'"
      ]
     },
     "execution_count": 1,
     "metadata": {},
     "output_type": "execute_result"
    }
   ],
   "source": [
    "%%capture\n",
    "%load_ext sql\n",
    "%sql sqlite:///chinook.db"
   ]
  },
  {
   "cell_type": "markdown",
   "metadata": {},
   "source": [
    "# Selecting Albums to Purchase"
   ]
  },
  {
   "cell_type": "markdown",
   "metadata": {},
   "source": [
    "The Chinook record store has just signed a deal with a new record label, and we've been tasked with selecting the first three albums that will be added to the store, from a list of four. We will need to write a query to find out which genres sell the most tracks in the USA, write up a summary of your findings, and make a recommendation for the three artists whose albums we should purchase for the store.\n",
    "\n"
   ]
  },
  {
   "attachments": {
    "image.png": {
     "image/png": "[encoded data removed]"
    }
   },
   "cell_type": "markdown",
   "metadata": {},
   "source": [
    "![image.png](attachment:image.png)"
   ]
  },
  {
   "cell_type": "code",
   "execution_count": 2,
   "metadata": {
    "scrolled": true
   },
   "outputs": [
    {
     "name": "stdout",
     "output_type": "stream",
     "text": [
      "Done.\n"
     ]
    },
    {
     "data": {
      "text/html": [
       "<table>\n",
       "    <tr>\n",
       "        <th>genrename</th>\n",
       "        <th>tracks_sold</th>\n",
       "        <th>percentage_sold</th>\n",
       "    </tr>\n",
       "    <tr>\n",
       "        <td>Rock</td>\n",
       "        <td>561</td>\n",
       "        <td>53.38</td>\n",
       "    </tr>\n",
       "    <tr>\n",
       "        <td>Alternative &amp; Punk</td>\n",
       "        <td>130</td>\n",
       "        <td>12.37</td>\n",
       "    </tr>\n",
       "    <tr>\n",
       "        <td>Metal</td>\n",
       "        <td>124</td>\n",
       "        <td>11.8</td>\n",
       "    </tr>\n",
       "    <tr>\n",
       "        <td>R&amp;B/Soul</td>\n",
       "        <td>53</td>\n",
       "        <td>5.04</td>\n",
       "    </tr>\n",
       "    <tr>\n",
       "        <td>Blues</td>\n",
       "        <td>36</td>\n",
       "        <td>3.43</td>\n",
       "    </tr>\n",
       "    <tr>\n",
       "        <td>Alternative</td>\n",
       "        <td>35</td>\n",
       "        <td>3.33</td>\n",
       "    </tr>\n",
       "    <tr>\n",
       "        <td>Latin</td>\n",
       "        <td>22</td>\n",
       "        <td>2.09</td>\n",
       "    </tr>\n",
       "    <tr>\n",
       "        <td>Pop</td>\n",
       "        <td>22</td>\n",
       "        <td>2.09</td>\n",
       "    </tr>\n",
       "    <tr>\n",
       "        <td>Hip Hop/Rap</td>\n",
       "        <td>20</td>\n",
       "        <td>1.9</td>\n",
       "    </tr>\n",
       "    <tr>\n",
       "        <td>Jazz</td>\n",
       "        <td>14</td>\n",
       "        <td>1.33</td>\n",
       "    </tr>\n",
       "    <tr>\n",
       "        <td>Easy Listening</td>\n",
       "        <td>13</td>\n",
       "        <td>1.24</td>\n",
       "    </tr>\n",
       "    <tr>\n",
       "        <td>Reggae</td>\n",
       "        <td>6</td>\n",
       "        <td>0.57</td>\n",
       "    </tr>\n",
       "    <tr>\n",
       "        <td>Electronica/Dance</td>\n",
       "        <td>5</td>\n",
       "        <td>0.48</td>\n",
       "    </tr>\n",
       "    <tr>\n",
       "        <td>Classical</td>\n",
       "        <td>4</td>\n",
       "        <td>0.38</td>\n",
       "    </tr>\n",
       "    <tr>\n",
       "        <td>Heavy Metal</td>\n",
       "        <td>3</td>\n",
       "        <td>0.29</td>\n",
       "    </tr>\n",
       "    <tr>\n",
       "        <td>Soundtrack</td>\n",
       "        <td>2</td>\n",
       "        <td>0.19</td>\n",
       "    </tr>\n",
       "    <tr>\n",
       "        <td>TV Shows</td>\n",
       "        <td>1</td>\n",
       "        <td>0.1</td>\n",
       "    </tr>\n",
       "</table>"
      ],
      "text/plain": [
       "[('Rock', 561, 53.38),\n",
       " ('Alternative & Punk', 130, 12.37),\n",
       " ('Metal', 124, 11.8),\n",
       " ('R&B/Soul', 53, 5.04),\n",
       " ('Blues', 36, 3.43),\n",
       " ('Alternative', 35, 3.33),\n",
       " ('Latin', 22, 2.09),\n",
       " ('Pop', 22, 2.09),\n",
       " ('Hip Hop/Rap', 20, 1.9),\n",
       " ('Jazz', 14, 1.33),\n",
       " ('Easy Listening', 13, 1.24),\n",
       " ('Reggae', 6, 0.57),\n",
       " ('Electronica/Dance', 5, 0.48),\n",
       " ('Classical', 4, 0.38),\n",
       " ('Heavy Metal', 3, 0.29),\n",
       " ('Soundtrack', 2, 0.19),\n",
       " ('TV Shows', 1, 0.1)]"
      ]
     },
     "execution_count": 2,
     "metadata": {},
     "output_type": "execute_result"
    }
   ],
   "source": [
    "%%sql\n",
    "WITH m AS (SELECT *, g.name genrename\n",
    "           FROM invoice AS inv\n",
    "            LEFT JOIN invoice_line il ON il.invoice_id=inv.invoice_id\n",
    "            LEFT JOIN track tr ON tr.track_id=il.track_id\n",
    "            LEFT JOIN genre g ON g.genre_id=tr.genre_id\n",
    "          WHERE billing_country='USA')\n",
    "\n",
    "SELECT genrename, \n",
    "    COUNT(track_id) AS tracks_sold,\n",
    "    ROUND((COUNT(track_id)/(SELECT CAST(COUNT(*) AS FLOAT)\n",
    "          FROM m))*100,2) percentage_sold\n",
    "    FROM m\n",
    "    GROUP BY genrename\n",
    "    ORDER BY tracks_sold DESC"
   ]
  },
  {
   "cell_type": "markdown",
   "metadata": {
    "collapsed": true
   },
   "source": [
    "Therefore, the record label should focus on employing the album 'Red Tone' into the store. This is because that artist is within the 'Punk' genre, which is the second most popular genre in terms of tracks sold across the United States.\n",
    "\n",
    "Furthermore, the other artists don't seem as attractive as there is a substantial decrease in genre popularity past 'Metal', as displayed above. However, the next best two genres within the list is Blues and Pop, so we would choose Meteor and the Grils alongside Sim Jim Bites."
   ]
  },
  {
   "cell_type": "markdown",
   "metadata": {},
   "source": [
    "# Analyzing Employee Sales Performance"
   ]
  },
  {
   "cell_type": "code",
   "execution_count": 3,
   "metadata": {},
   "outputs": [
    {
     "name": "stdout",
     "output_type": "stream",
     "text": [
      "Done.\n"
     ]
    },
    {
     "data": {
      "text/html": [
       "<table>\n",
       "    <tr>\n",
       "        <th>employee_name</th>\n",
       "        <th>sales_total</th>\n",
       "        <th>number_of_tracks_sold</th>\n",
       "        <th>hire_date</th>\n",
       "    </tr>\n",
       "    <tr>\n",
       "        <td>Jane Peacock</td>\n",
       "        <td>1732.0</td>\n",
       "        <td>212</td>\n",
       "        <td>2017-04-01 00:00:00</td>\n",
       "    </tr>\n",
       "    <tr>\n",
       "        <td>Margaret Park</td>\n",
       "        <td>1584.0</td>\n",
       "        <td>214</td>\n",
       "        <td>2017-05-03 00:00:00</td>\n",
       "    </tr>\n",
       "    <tr>\n",
       "        <td>Steve Johnson</td>\n",
       "        <td>1394.0</td>\n",
       "        <td>188</td>\n",
       "        <td>2017-10-17 00:00:00</td>\n",
       "    </tr>\n",
       "</table>"
      ],
      "text/plain": [
       "[('Jane Peacock', 1732.0, 212, '2017-04-01 00:00:00'),\n",
       " ('Margaret Park', 1584.0, 214, '2017-05-03 00:00:00'),\n",
       " ('Steve Johnson', 1394.0, 188, '2017-10-17 00:00:00')]"
      ]
     },
     "execution_count": 3,
     "metadata": {},
     "output_type": "execute_result"
    }
   ],
   "source": [
    "%%sql \n",
    "WITH sal AS (SELECT * \n",
    "            FROM employee em \n",
    "            LEFT JOIN customer cr ON cr.support_rep_id=em.employee_id\n",
    "            LEFT JOIN invoice io ON io.customer_id=cr.customer_id\n",
    "            WHERE title='Sales Support Agent')\n",
    "SELECT first_name || ' ' || last_name employee_name, \n",
    "ROUND(SUM(total)) sales_total, \n",
    "COUNT(invoice_id) number_of_tracks_sold,\n",
    "hire_date\n",
    "FROM sal\n",
    "GROUP BY support_rep_id \n",
    "ORDER BY sales_total DESC"
   ]
  },
  {
   "cell_type": "markdown",
   "metadata": {},
   "source": [
    "We can see that Jane Peacock has generated the most revenue for the company in terms of USD. However, Margaret Park has sold the the most amount of tracks. This therefore means the tracks that Jane has sold were at a higher price than Margaret's sales.\n",
    "\n",
    "Because the sales USD difference is substantial while the number of tracks sold isn't, we can conclude that Jane Peacock is the most valuable employee at the company.\n",
    "\n",
    "We can also see that Jane Peacock has been at the company the longest, which shows why. Furthermore, Steve Johnson has been at the company the least by a substantial amount, showing why he had lower number of tracks sold. "
   ]
  },
  {
   "cell_type": "markdown",
   "metadata": {},
   "source": [
    "# Analyzing Sales by Country"
   ]
  },
  {
   "cell_type": "markdown",
   "metadata": {},
   "source": [
    "We will be analyzing the number of distinct customers from each country. We will also calculate the total amount of sales a country brings in, the average sales per customer (average amount of sales a customer brings from XYZ country), and the average order (since a single customer can have multiple individual orders according to 'invoice'). \n",
    "\n",
    "We will also categorize countries with one distinct customer in the 'Other section' for concision."
   ]
  },
  {
   "cell_type": "code",
   "execution_count": 4,
   "metadata": {},
   "outputs": [
    {
     "name": "stdout",
     "output_type": "stream",
     "text": [
      "Done.\n"
     ]
    },
    {
     "data": {
      "text/html": [
       "<table>\n",
       "    <tr>\n",
       "        <th>country_final</th>\n",
       "        <th>number_of_customers</th>\n",
       "        <th>total_sales</th>\n",
       "        <th>average_sales_per_customer</th>\n",
       "        <th>average_order</th>\n",
       "    </tr>\n",
       "    <tr>\n",
       "        <td>USA</td>\n",
       "        <td>13</td>\n",
       "        <td>1040.49</td>\n",
       "        <td>80.04</td>\n",
       "        <td>7.94</td>\n",
       "    </tr>\n",
       "    <tr>\n",
       "        <td>Canada</td>\n",
       "        <td>8</td>\n",
       "        <td>535.59</td>\n",
       "        <td>66.95</td>\n",
       "        <td>7.05</td>\n",
       "    </tr>\n",
       "    <tr>\n",
       "        <td>Brazil</td>\n",
       "        <td>5</td>\n",
       "        <td>427.68</td>\n",
       "        <td>85.54</td>\n",
       "        <td>7.01</td>\n",
       "    </tr>\n",
       "    <tr>\n",
       "        <td>France</td>\n",
       "        <td>5</td>\n",
       "        <td>389.07</td>\n",
       "        <td>77.81</td>\n",
       "        <td>7.78</td>\n",
       "    </tr>\n",
       "    <tr>\n",
       "        <td>Germany</td>\n",
       "        <td>4</td>\n",
       "        <td>334.62</td>\n",
       "        <td>83.66</td>\n",
       "        <td>8.16</td>\n",
       "    </tr>\n",
       "    <tr>\n",
       "        <td>United Kingdom</td>\n",
       "        <td>3</td>\n",
       "        <td>245.52</td>\n",
       "        <td>81.84</td>\n",
       "        <td>8.77</td>\n",
       "    </tr>\n",
       "    <tr>\n",
       "        <td>Czech Republic</td>\n",
       "        <td>2</td>\n",
       "        <td>273.24</td>\n",
       "        <td>136.62</td>\n",
       "        <td>9.11</td>\n",
       "    </tr>\n",
       "    <tr>\n",
       "        <td>India</td>\n",
       "        <td>2</td>\n",
       "        <td>183.15</td>\n",
       "        <td>91.57</td>\n",
       "        <td>8.72</td>\n",
       "    </tr>\n",
       "    <tr>\n",
       "        <td>Portugal</td>\n",
       "        <td>2</td>\n",
       "        <td>185.13</td>\n",
       "        <td>92.56</td>\n",
       "        <td>6.38</td>\n",
       "    </tr>\n",
       "    <tr>\n",
       "        <td>Other</td>\n",
       "        <td>15</td>\n",
       "        <td>75.24</td>\n",
       "        <td>75.24</td>\n",
       "        <td>7.52</td>\n",
       "    </tr>\n",
       "</table>"
      ],
      "text/plain": [
       "[('USA', 13, 1040.49, 80.04, 7.94),\n",
       " ('Canada', 8, 535.59, 66.95, 7.05),\n",
       " ('Brazil', 5, 427.68, 85.54, 7.01),\n",
       " ('France', 5, 389.07, 77.81, 7.78),\n",
       " ('Germany', 4, 334.62, 83.66, 8.16),\n",
       " ('United Kingdom', 3, 245.52, 81.84, 8.77),\n",
       " ('Czech Republic', 2, 273.24, 136.62, 9.11),\n",
       " ('India', 2, 183.15, 91.57, 8.72),\n",
       " ('Portugal', 2, 185.13, 92.56, 6.38),\n",
       " ('Other', 15, 75.24, 75.24, 7.52)]"
      ]
     },
     "execution_count": 4,
     "metadata": {},
     "output_type": "execute_result"
    }
   ],
   "source": [
    "%%sql\n",
    "WITH ifix AS (SELECT *, SUM(total) total_cust, AVG(total) avg_order\n",
    "                  FROM invoice \n",
    "                  GROUP BY customer_id),\n",
    "    comb AS (SELECT *\n",
    "         FROM customer c \n",
    "         LEFT JOIN ifix i ON i.customer_id=c.customer_id),\n",
    "    fin AS (SELECT *, \n",
    "                  COUNT(DISTINCT(customer_id)) num_customers,\n",
    "                  SUM(total_cust) total_sales, \n",
    "                  AVG(total_cust) average_sales_per_customer, \n",
    "                  (SUM(total_cust)/(SELECT COUNT(billing_country) \n",
    "                                    FROM invoice \n",
    "                                    WHERE billing_country=comb.country)) average_order\n",
    "              FROM comb\n",
    "              GROUP BY country),\n",
    "    final AS (SELECT *, SUM(num_customers) final_cust_number,\n",
    "            CASE\n",
    "                WHEN num_customers=1 THEN 0 \n",
    "                ELSE 1\n",
    "                END AS numcat,\n",
    "            CASE\n",
    "                WHEN num_customers=1 THEN 'Other'\n",
    "                ELSE country\n",
    "                END AS country_final\n",
    "            FROM fin\n",
    "            GROUP BY country_final\n",
    "            ORDER BY numcat DESC, final_cust_number DESC\n",
    "            )\n",
    "\n",
    "SELECT country_final, \n",
    "final_cust_number number_of_customers, \n",
    "ROUND(total_sales,2) total_sales, ROUND(average_sales_per_customer,2) average_sales_per_customer, \n",
    "ROUND(average_order,2) average_order\n",
    "FROM final"
   ]
  },
  {
   "cell_type": "markdown",
   "metadata": {},
   "source": [
    "# Albums vs Individual Tracks"
   ]
  },
  {
   "cell_type": "markdown",
   "metadata": {},
   "source": [
    "Within this section, we will categorizing purchases as full album purchases or simply individual tracks. There are two things we need to consider. People who buy a singular track can be classified as an album purchase as there is only one 'album' contained, and people who buy a album will only have one distinct album in the invoice, we need to differentiate between the two:"
   ]
  },
  {
   "cell_type": "code",
   "execution_count": 159,
   "metadata": {},
   "outputs": [
    {
     "name": "stdout",
     "output_type": "stream",
     "text": [
      "Done.\n"
     ]
    },
    {
     "data": {
      "text/html": [
       "<table>\n",
       "    <tr>\n",
       "        <th>category</th>\n",
       "        <th>num_count</th>\n",
       "        <th>percentage</th>\n",
       "    </tr>\n",
       "    <tr>\n",
       "        <td>Albums</td>\n",
       "        <td>133</td>\n",
       "        <td>21.66</td>\n",
       "    </tr>\n",
       "    <tr>\n",
       "        <td>Singles</td>\n",
       "        <td>481</td>\n",
       "        <td>78.34</td>\n",
       "    </tr>\n",
       "</table>"
      ],
      "text/plain": [
       "[('Albums', 133, 21.66), ('Singles', 481, 78.34)]"
      ]
     },
     "execution_count": 159,
     "metadata": {},
     "output_type": "execute_result"
    }
   ],
   "source": [
    "%%sql\n",
    "WITH comb AS (SELECT il.invoice_id, \n",
    "              il.invoice_line_id, \n",
    "              t.track_id, t.album_id, \n",
    "              COUNT(t.track_id) num_tracks, \n",
    "              COUNT(DISTINCT(t.album_id)) distinct_album\n",
    "              FROM invoice i\n",
    "              INNER JOIN invoice_line il ON il.invoice_id=i.invoice_id\n",
    "              INNER JOIN track t ON t.track_id=il.track_id\n",
    "              GROUP BY il.invoice_id),\n",
    "    album_track_count AS (SELECT album_id, COUNT(track_id) track_count\n",
    "                          FROM track \n",
    "                          GROUP BY album_id),\n",
    "    final AS (SELECT *, \n",
    "              COUNT(*) num_count, \n",
    "              ROUND((CAST(COUNT(*) AS FLOAT)/(SELECT COUNT(*) FROM comb))*100,2) percentage,\n",
    "             CASE\n",
    "                 WHEN distinct_album=1 AND num_tracks=\n",
    "                 THEN 'Albums'\n",
    "                 ELSE 'Singles'\n",
    "                 END AS 'category'\n",
    "            FROM comb\n",
    "            INNER JOIN album_track_count AS al ON al.album_id=comb.album_id\n",
    "            GROUP BY category)\n",
    "\n",
    "SELECT category, num_count, percentage\n",
    "FROM final"
   ]
  }
 ],
 "metadata": {
  "kernelspec": {
   "display_name": "Python 3 (ipykernel)",
   "language": "python",
   "name": "python3"
  },
  "language_info": {
   "codemirror_mode": {
    "name": "ipython",
    "version": 3
   },
   "file_extension": ".py",
   "mimetype": "text/x-python",
   "name": "python",
   "nbconvert_exporter": "python",
   "pygments_lexer": "ipython3",
   "version": "3.9.12"
  }
 },
 "nbformat": 4,
 "nbformat_minor": 2
}
